{
  "nbformat": 4,
  "nbformat_minor": 0,
  "metadata": {
    "colab": {
      "provenance": [],
      "collapsed_sections": [
        "_CuJSEbZrbVW"
      ],
      "include_colab_link": true
    },
    "kernelspec": {
      "name": "python3",
      "display_name": "Python 3"
    },
    "language_info": {
      "name": "python"
    },
    "accelerator": "GPU"
  },
  "cells": [
    {
      "cell_type": "markdown",
      "metadata": {
        "id": "view-in-github",
        "colab_type": "text"
      },
      "source": [
        "<a href=\"https://colab.research.google.com/github/Pacharaponarp/American-Sign-Language-Classification/blob/main/asl.ipynb\" target=\"_parent\"><img src=\"https://colab.research.google.com/assets/colab-badge.svg\" alt=\"Open In Colab\"/></a>"
      ]
    },
    {
      "cell_type": "markdown",
      "source": [
        "# Download data from kaggle\n"
      ],
      "metadata": {
        "id": "Yx29iKrxrQWo"
      }
    },
    {
      "cell_type": "code",
      "execution_count": 3,
      "metadata": {
        "colab": {
          "base_uri": "https://localhost:8080/"
        },
        "id": "OrNNifWVWAr3",
        "outputId": "ec58834d-6ed2-4d91-f4db-fe424e08c044"
      },
      "outputs": [
        {
          "output_type": "stream",
          "name": "stdout",
          "text": [
            "Looking in indexes: https://pypi.org/simple, https://us-python.pkg.dev/colab-wheels/public/simple/\n",
            "Requirement already satisfied: kaggle in /usr/local/lib/python3.7/dist-packages (1.5.12)\n",
            "Requirement already satisfied: six>=1.10 in /usr/local/lib/python3.7/dist-packages (from kaggle) (1.15.0)\n",
            "Requirement already satisfied: python-dateutil in /usr/local/lib/python3.7/dist-packages (from kaggle) (2.8.2)\n",
            "Requirement already satisfied: python-slugify in /usr/local/lib/python3.7/dist-packages (from kaggle) (6.1.2)\n",
            "Requirement already satisfied: urllib3 in /usr/local/lib/python3.7/dist-packages (from kaggle) (1.24.3)\n",
            "Requirement already satisfied: certifi in /usr/local/lib/python3.7/dist-packages (from kaggle) (2022.9.24)\n",
            "Requirement already satisfied: tqdm in /usr/local/lib/python3.7/dist-packages (from kaggle) (4.64.1)\n",
            "Requirement already satisfied: requests in /usr/local/lib/python3.7/dist-packages (from kaggle) (2.23.0)\n",
            "Requirement already satisfied: text-unidecode>=1.3 in /usr/local/lib/python3.7/dist-packages (from python-slugify->kaggle) (1.3)\n",
            "Requirement already satisfied: idna<3,>=2.5 in /usr/local/lib/python3.7/dist-packages (from requests->kaggle) (2.10)\n",
            "Requirement already satisfied: chardet<4,>=3.0.2 in /usr/local/lib/python3.7/dist-packages (from requests->kaggle) (3.0.4)\n",
            "mkdir: cannot create directory ‘/root/.kaggle’: File exists\n"
          ]
        }
      ],
      "source": [
        "! pip install kaggle\n",
        "! mkdir ~/.kaggle\n",
        "! cp kaggle.json ~/.kaggle/\n",
        "! chmod 600 ~/.kaggle/kaggle.json"
      ]
    },
    {
      "cell_type": "code",
      "source": [
        "! kaggle datasets download danrasband/asl-alphabet-test"
      ],
      "metadata": {
        "colab": {
          "base_uri": "https://localhost:8080/"
        },
        "id": "XciuYEBN1Y42",
        "outputId": "8758f9f9-b87b-44cf-ccbc-b2b0fe74c5fe"
      },
      "execution_count": 4,
      "outputs": [
        {
          "output_type": "stream",
          "name": "stdout",
          "text": [
            "Downloading asl-alphabet-test.zip to /content\n",
            " 37% 9.00M/24.3M [00:00<00:00, 16.7MB/s]\n",
            "100% 24.3M/24.3M [00:00<00:00, 39.2MB/s]\n"
          ]
        }
      ]
    },
    {
      "cell_type": "code",
      "source": [
        "! unzip asl-alphabet-test.zip"
      ],
      "metadata": {
        "id": "b7FvDPpG13dr"
      },
      "execution_count": null,
      "outputs": []
    },
    {
      "cell_type": "markdown",
      "source": [
        "#Predict alphabet from images\n"
      ],
      "metadata": {
        "id": "_CuJSEbZrbVW"
      }
    },
    {
      "cell_type": "code",
      "source": [
        "import numpy as np \n",
        "import pandas as pd \n",
        "import os,warnings\n",
        "import tensorflow as tf\n",
        "from tensorflow import keras\n",
        "from tensorflow.keras.preprocessing.image import ImageDataGenerator\n",
        "from tensorflow.keras.layers.experimental import preprocessing\n",
        "from tensorflow.keras import layers\n",
        "import matplotlib.pyplot as plt\n",
        "\n",
        "def set_seed(seed=12345):\n",
        "    np.random.seed(seed)\n",
        "    tf.random.set_seed(seed)\n",
        "    os.environ['PYTHONHASHSEED'] = str(seed)\n",
        "    os.environ['TF_DETERMINISTIC_OPS'] = '1'\n",
        "set_seed()\n",
        "# Set Matplotlib defaults\n",
        "plt.rc('figure', autolayout=True)\n",
        "plt.rc('axes', labelweight='bold', labelsize='large',\n",
        "       titleweight='bold', titlesize=18, titlepad=10)\n",
        "plt.rc('image', cmap='magma')\n",
        "warnings.filterwarnings(\"ignore\")"
      ],
      "metadata": {
        "id": "-aUx792d1-y9"
      },
      "execution_count": 6,
      "outputs": []
    },
    {
      "cell_type": "code",
      "source": [
        "datagen = ImageDataGenerator(\n",
        "    horizontal_flip = True,\n",
        "    rotation_range =20,\n",
        "    #brightness_range=(0.2,1.5),\n",
        "    validation_split=0.1,\n",
        "   \n",
        ")\n",
        "train_gen = datagen.flow_from_directory(\n",
        "    directory = '/content/asl-alphabet-test',\n",
        "    target_size = (150,150),\n",
        "    class_mode = \"categorical\",\n",
        "    batch_size = 32,\n",
        "    subset = 'training', \n",
        "    shuffle = True,\n",
        ")\n",
        "\n",
        "val_gen = datagen.flow_from_directory(\n",
        "    directory = '/content/asl-alphabet-test',\n",
        "    target_size = (150,150),\n",
        "    class_mode = \"categorical\",\n",
        "    batch_size = 32,\n",
        "    subset = 'validation',\n",
        ")"
      ],
      "metadata": {
        "colab": {
          "base_uri": "https://localhost:8080/"
        },
        "id": "tL1Mwh5Z2_2f",
        "outputId": "41c026df-f9ad-420b-bb50-107ca4d4cd20"
      },
      "execution_count": 7,
      "outputs": [
        {
          "output_type": "stream",
          "name": "stdout",
          "text": [
            "Found 783 images belonging to 29 classes.\n",
            "Found 87 images belonging to 29 classes.\n"
          ]
        }
      ]
    },
    {
      "cell_type": "code",
      "source": [
        "pretrained_model = tf.keras.applications.ResNet50(\n",
        "    input_shape=(150, 150, 3),\n",
        "    include_top=False,\n",
        "    weights='imagenet',\n",
        ")\n",
        "pretrained_model.trainable = False\n",
        "\n",
        "model = keras.Sequential([\n",
        "    layers.InputLayer(input_shape=(150, 150,3)),\n",
        "    pretrained_model,\n",
        "    layers.Flatten(),\n",
        "    layers.BatchNormalization(renorm=True),\n",
        "    #layers.Dense(units = 64, activation = 'relu'),\n",
        "    layers.Dense(units = 29,activation = 'softmax')\n",
        "])\n",
        "optimizer = tf.keras.optimizers.Adam(epsilon=0.001)\n",
        "model.compile(\n",
        "    optimizer=optimizer,\n",
        "    loss = 'categorical_crossentropy',\n",
        "    metrics=['accuracy'],\n",
        ")\n",
        "model.summary()"
      ],
      "metadata": {
        "colab": {
          "base_uri": "https://localhost:8080/"
        },
        "id": "D1k7SdO53_K6",
        "outputId": "e09edec0-ac06-459b-89c2-a2b5266d904c"
      },
      "execution_count": 8,
      "outputs": [
        {
          "output_type": "stream",
          "name": "stdout",
          "text": [
            "Downloading data from https://storage.googleapis.com/tensorflow/keras-applications/resnet/resnet50_weights_tf_dim_ordering_tf_kernels_notop.h5\n",
            "94765736/94765736 [==============================] - 0s 0us/step\n",
            "Model: \"sequential\"\n",
            "_________________________________________________________________\n",
            " Layer (type)                Output Shape              Param #   \n",
            "=================================================================\n",
            " resnet50 (Functional)       (None, 5, 5, 2048)        23587712  \n",
            "                                                                 \n",
            " flatten (Flatten)           (None, 51200)             0         \n",
            "                                                                 \n",
            " batch_normalization (BatchN  (None, 51200)            358400    \n",
            " ormalization)                                                   \n",
            "                                                                 \n",
            " dense (Dense)               (None, 29)                1484829   \n",
            "                                                                 \n",
            "=================================================================\n",
            "Total params: 25,430,941\n",
            "Trainable params: 1,587,229\n",
            "Non-trainable params: 23,843,712\n",
            "_________________________________________________________________\n"
          ]
        }
      ]
    },
    {
      "cell_type": "code",
      "source": [
        "checkpoint = keras.callbacks.ModelCheckpoint('/content/', monitor='val_accuracy', verbose=1, \n",
        "                             save_best_only=True, mode='max')\n",
        "reduce_lr = keras.callbacks.ReduceLROnPlateau(monitor='val_accuracy', factor=0.5, patience=2, \n",
        "                                   verbose=1, mode='max', min_lr=0.00001)"
      ],
      "metadata": {
        "id": "xGhArFXy4cAe"
      },
      "execution_count": 9,
      "outputs": []
    },
    {
      "cell_type": "code",
      "source": [
        "history = model.fit_generator(\n",
        "    train_gen,\n",
        "    validation_data=val_gen,\n",
        "    epochs=30,\n",
        "    callbacks=[checkpoint,reduce_lr]\n",
        ")"
      ],
      "metadata": {
        "id": "EpB3bhXo4dej",
        "colab": {
          "base_uri": "https://localhost:8080/"
        },
        "outputId": "9da03a63-531d-43ab-c68b-83cc5578b207"
      },
      "execution_count": null,
      "outputs": [
        {
          "output_type": "stream",
          "name": "stdout",
          "text": [
            "Epoch 1/30\n",
            "25/25 [==============================] - ETA: 0s - loss: 10.5635 - accuracy: 0.3116\n",
            "Epoch 1: val_accuracy improved from -inf to 0.55172, saving model to /content/\n"
          ]
        },
        {
          "output_type": "stream",
          "name": "stderr",
          "text": [
            "WARNING:absl:Found untraced functions such as _jit_compiled_convolution_op, _jit_compiled_convolution_op, _jit_compiled_convolution_op, _jit_compiled_convolution_op, _jit_compiled_convolution_op while saving (showing 5 of 53). These functions will not be directly callable after loading.\n"
          ]
        },
        {
          "output_type": "stream",
          "name": "stdout",
          "text": [
            "\b\b\b\b\b\b\b\b\b\b\b\b\b\b\b\b\b\b\b\b\b\b\b\b\b\b\b\b\b\b\b\b\b\b\b\b\b\b\b\b\b\b\b\b\b\b\b\b\b\b\b\b\b\b\b\b\b\b\b\b\b\b\b\b\b\b\b\b\b\b\b\b\b\b\b\b\b\b\b\b\b\b\b\r25/25 [==============================] - 40s 1s/step - loss: 10.5635 - accuracy: 0.3116 - val_loss: 6.5140 - val_accuracy: 0.5517 - lr: 0.0010\n",
            "Epoch 2/30\n",
            "25/25 [==============================] - ETA: 0s - loss: 2.5681 - accuracy: 0.7254\n",
            "Epoch 2: val_accuracy improved from 0.55172 to 0.70115, saving model to /content/\n"
          ]
        },
        {
          "output_type": "stream",
          "name": "stderr",
          "text": [
            "WARNING:absl:Found untraced functions such as _jit_compiled_convolution_op, _jit_compiled_convolution_op, _jit_compiled_convolution_op, _jit_compiled_convolution_op, _jit_compiled_convolution_op while saving (showing 5 of 53). These functions will not be directly callable after loading.\n"
          ]
        },
        {
          "output_type": "stream",
          "name": "stdout",
          "text": [
            "\b\b\b\b\b\b\b\b\b\b\b\b\b\b\b\b\b\b\b\b\b\b\b\b\b\b\b\b\b\b\b\b\b\b\b\b\b\b\b\b\b\b\b\b\b\b\b\b\b\b\b\b\b\b\b\b\b\b\b\b\b\b\b\b\b\b\b\b\b\b\b\b\b\b\b\b\b\b\b\b\b\b\r25/25 [==============================] - 28s 1s/step - loss: 2.5681 - accuracy: 0.7254 - val_loss: 3.0579 - val_accuracy: 0.7011 - lr: 0.0010\n",
            "Epoch 3/30\n",
            "25/25 [==============================] - ETA: 0s - loss: 1.1120 - accuracy: 0.8531\n",
            "Epoch 3: val_accuracy improved from 0.70115 to 0.74713, saving model to /content/\n"
          ]
        },
        {
          "output_type": "stream",
          "name": "stderr",
          "text": [
            "WARNING:absl:Found untraced functions such as _jit_compiled_convolution_op, _jit_compiled_convolution_op, _jit_compiled_convolution_op, _jit_compiled_convolution_op, _jit_compiled_convolution_op while saving (showing 5 of 53). These functions will not be directly callable after loading.\n"
          ]
        },
        {
          "output_type": "stream",
          "name": "stdout",
          "text": [
            "\b\b\b\b\b\b\b\b\b\b\b\b\b\b\b\b\b\b\b\b\b\b\b\b\b\b\b\b\b\b\b\b\b\b\b\b\b\b\b\b\b\b\b\b\b\b\b\b\b\b\b\b\b\b\b\b\b\b\b\b\b\b\b\b\b\b\b\b\b\b\b\b\b\b\b\b\b\b\b\b\b\b\r25/25 [==============================] - 28s 1s/step - loss: 1.1120 - accuracy: 0.8531 - val_loss: 2.3994 - val_accuracy: 0.7471 - lr: 0.0010\n",
            "Epoch 4/30\n",
            "25/25 [==============================] - ETA: 0s - loss: 0.6336 - accuracy: 0.8940\n",
            "Epoch 4: val_accuracy did not improve from 0.74713\n",
            "25/25 [==============================] - 7s 274ms/step - loss: 0.6336 - accuracy: 0.8940 - val_loss: 3.1436 - val_accuracy: 0.7241 - lr: 0.0010\n",
            "Epoch 5/30\n",
            "25/25 [==============================] - ETA: 0s - loss: 0.5846 - accuracy: 0.9246\n",
            "Epoch 5: val_accuracy improved from 0.74713 to 0.78161, saving model to /content/\n"
          ]
        },
        {
          "output_type": "stream",
          "name": "stderr",
          "text": [
            "WARNING:absl:Found untraced functions such as _jit_compiled_convolution_op, _jit_compiled_convolution_op, _jit_compiled_convolution_op, _jit_compiled_convolution_op, _jit_compiled_convolution_op while saving (showing 5 of 53). These functions will not be directly callable after loading.\n"
          ]
        },
        {
          "output_type": "stream",
          "name": "stdout",
          "text": [
            "\b\b\b\b\b\b\b\b\b\b\b\b\b\b\b\b\b\b\b\b\b\b\b\b\b\b\b\b\b\b\b\b\b\b\b\b\b\b\b\b\b\b\b\b\b\b\b\b\b\b\b\b\b\b\b\b\b\b\b\b\b\b\b\b\b\b\b\b\b\b\b\b\b\b\b\b\b\b\b\b\b\b\r25/25 [==============================] - 27s 1s/step - loss: 0.5846 - accuracy: 0.9246 - val_loss: 2.4310 - val_accuracy: 0.7816 - lr: 0.0010\n",
            "Epoch 6/30\n",
            "25/25 [==============================] - ETA: 0s - loss: 0.3447 - accuracy: 0.9476\n",
            "Epoch 6: val_accuracy improved from 0.78161 to 0.79310, saving model to /content/\n"
          ]
        },
        {
          "output_type": "stream",
          "name": "stderr",
          "text": [
            "WARNING:absl:Found untraced functions such as _jit_compiled_convolution_op, _jit_compiled_convolution_op, _jit_compiled_convolution_op, _jit_compiled_convolution_op, _jit_compiled_convolution_op while saving (showing 5 of 53). These functions will not be directly callable after loading.\n"
          ]
        },
        {
          "output_type": "stream",
          "name": "stdout",
          "text": [
            "\b\b\b\b\b\b\b\b\b\b\b\b\b\b\b\b\b\b\b\b\b\b\b\b\b\b\b\b\b\b\b\b\b\b\b\b\b\b\b\b\b\b\b\b\b\b\b\b\b\b\b\b\b\b\b\b\b\b\b\b\b\b\b\b\b\b\b\b\b\b\b\b\b\b\b\b\b\b\b\b\b\b\r25/25 [==============================] - 28s 1s/step - loss: 0.3447 - accuracy: 0.9476 - val_loss: 2.5988 - val_accuracy: 0.7931 - lr: 0.0010\n",
            "Epoch 7/30\n",
            "25/25 [==============================] - ETA: 0s - loss: 0.3925 - accuracy: 0.9464\n",
            "Epoch 7: val_accuracy did not improve from 0.79310\n",
            "25/25 [==============================] - 7s 268ms/step - loss: 0.3925 - accuracy: 0.9464 - val_loss: 2.3820 - val_accuracy: 0.7931 - lr: 0.0010\n",
            "Epoch 8/30\n",
            "25/25 [==============================] - ETA: 0s - loss: 0.3282 - accuracy: 0.9540\n",
            "Epoch 8: val_accuracy improved from 0.79310 to 0.80460, saving model to /content/\n"
          ]
        },
        {
          "output_type": "stream",
          "name": "stderr",
          "text": [
            "WARNING:absl:Found untraced functions such as _jit_compiled_convolution_op, _jit_compiled_convolution_op, _jit_compiled_convolution_op, _jit_compiled_convolution_op, _jit_compiled_convolution_op while saving (showing 5 of 53). These functions will not be directly callable after loading.\n"
          ]
        },
        {
          "output_type": "stream",
          "name": "stdout",
          "text": [
            "\b\b\b\b\b\b\b\b\b\b\b\b\b\b\b\b\b\b\b\b\b\b\b\b\b\b\b\b\b\b\b\b\b\b\b\b\b\b\b\b\b\b\b\b\b\b\b\b\b\b\b\b\b\b\b\b\b\b\b\b\b\b\b\b\b\b\b\b\b\b\b\b\b\b\b\b\b\b\b\b\b\b\r25/25 [==============================] - 27s 1s/step - loss: 0.3282 - accuracy: 0.9540 - val_loss: 2.4428 - val_accuracy: 0.8046 - lr: 0.0010\n",
            "Epoch 9/30\n",
            "25/25 [==============================] - ETA: 0s - loss: 0.3536 - accuracy: 0.9451\n",
            "Epoch 9: val_accuracy did not improve from 0.80460\n",
            "25/25 [==============================] - 7s 271ms/step - loss: 0.3536 - accuracy: 0.9451 - val_loss: 1.8180 - val_accuracy: 0.7586 - lr: 0.0010\n",
            "Epoch 10/30\n",
            "25/25 [==============================] - ETA: 0s - loss: 0.3709 - accuracy: 0.9515\n",
            "Epoch 10: val_accuracy did not improve from 0.80460\n",
            "\n",
            "Epoch 10: ReduceLROnPlateau reducing learning rate to 0.0005000000237487257.\n",
            "25/25 [==============================] - 7s 305ms/step - loss: 0.3709 - accuracy: 0.9515 - val_loss: 3.6545 - val_accuracy: 0.7471 - lr: 0.0010\n",
            "Epoch 11/30\n",
            "25/25 [==============================] - ETA: 0s - loss: 0.2499 - accuracy: 0.9693\n",
            "Epoch 11: val_accuracy did not improve from 0.80460\n",
            "25/25 [==============================] - 7s 273ms/step - loss: 0.2499 - accuracy: 0.9693 - val_loss: 2.8399 - val_accuracy: 0.7471 - lr: 5.0000e-04\n",
            "Epoch 12/30\n",
            "25/25 [==============================] - ETA: 0s - loss: 0.1308 - accuracy: 0.9808\n",
            "Epoch 12: val_accuracy did not improve from 0.80460\n",
            "\n",
            "Epoch 12: ReduceLROnPlateau reducing learning rate to 0.0002500000118743628.\n",
            "25/25 [==============================] - 7s 271ms/step - loss: 0.1308 - accuracy: 0.9808 - val_loss: 4.6688 - val_accuracy: 0.7356 - lr: 5.0000e-04\n",
            "Epoch 13/30\n",
            "25/25 [==============================] - ETA: 0s - loss: 0.2074 - accuracy: 0.9732\n",
            "Epoch 13: val_accuracy improved from 0.80460 to 0.81609, saving model to /content/\n"
          ]
        },
        {
          "output_type": "stream",
          "name": "stderr",
          "text": [
            "WARNING:absl:Found untraced functions such as _jit_compiled_convolution_op, _jit_compiled_convolution_op, _jit_compiled_convolution_op, _jit_compiled_convolution_op, _jit_compiled_convolution_op while saving (showing 5 of 53). These functions will not be directly callable after loading.\n"
          ]
        },
        {
          "output_type": "stream",
          "name": "stdout",
          "text": [
            "\b\b\b\b\b\b\b\b\b\b\b\b\b\b\b\b\b\b\b\b\b\b\b\b\b\b\b\b\b\b\b\b\b\b\b\b\b\b\b\b\b\b\b\b\b\b\b\b\b\b\b\b\b\b\b\b\b\b\b\b\b\b\b\b\b\b\b\b\b\b\b\b\b\b\b\b\b\b\b\b\b\b\r25/25 [==============================] - 28s 1s/step - loss: 0.2074 - accuracy: 0.9732 - val_loss: 2.5342 - val_accuracy: 0.8161 - lr: 2.5000e-04\n",
            "Epoch 14/30\n",
            "25/25 [==============================] - ETA: 0s - loss: 0.1806 - accuracy: 0.9834\n",
            "Epoch 14: val_accuracy did not improve from 0.81609\n",
            "25/25 [==============================] - 7s 272ms/step - loss: 0.1806 - accuracy: 0.9834 - val_loss: 3.2687 - val_accuracy: 0.7586 - lr: 2.5000e-04\n",
            "Epoch 15/30\n",
            "25/25 [==============================] - ETA: 0s - loss: 0.1143 - accuracy: 0.9783\n",
            "Epoch 15: val_accuracy improved from 0.81609 to 0.87356, saving model to /content/\n"
          ]
        },
        {
          "output_type": "stream",
          "name": "stderr",
          "text": [
            "WARNING:absl:Found untraced functions such as _jit_compiled_convolution_op, _jit_compiled_convolution_op, _jit_compiled_convolution_op, _jit_compiled_convolution_op, _jit_compiled_convolution_op while saving (showing 5 of 53). These functions will not be directly callable after loading.\n"
          ]
        },
        {
          "output_type": "stream",
          "name": "stdout",
          "text": [
            "\b\b\b\b\b\b\b\b\b\b\b\b\b\b\b\b\b\b\b\b\b\b\b\b\b\b\b\b\b\b\b\b\b\b\b\b\b\b\b\b\b\b\b\b\b\b\b\b\b\b\b\b\b\b\b\b\b\b\b\b\b\b\b\b\b\b\b\b\b\b\b\b\b\b\b\b\b\b\b\b\b\b\r25/25 [==============================] - 28s 1s/step - loss: 0.1143 - accuracy: 0.9783 - val_loss: 2.1803 - val_accuracy: 0.8736 - lr: 2.5000e-04\n",
            "Epoch 16/30\n",
            "25/25 [==============================] - ETA: 0s - loss: 0.1636 - accuracy: 0.9860\n",
            "Epoch 16: val_accuracy did not improve from 0.87356\n",
            "25/25 [==============================] - 7s 273ms/step - loss: 0.1636 - accuracy: 0.9860 - val_loss: 3.1553 - val_accuracy: 0.7356 - lr: 2.5000e-04\n",
            "Epoch 17/30\n",
            "25/25 [==============================] - ETA: 0s - loss: 0.0675 - accuracy: 0.9872\n",
            "Epoch 17: val_accuracy did not improve from 0.87356\n",
            "\n",
            "Epoch 17: ReduceLROnPlateau reducing learning rate to 0.0001250000059371814.\n",
            "25/25 [==============================] - 7s 273ms/step - loss: 0.0675 - accuracy: 0.9872 - val_loss: 2.5648 - val_accuracy: 0.8276 - lr: 2.5000e-04\n",
            "Epoch 18/30\n",
            "25/25 [==============================] - ETA: 0s - loss: 0.0423 - accuracy: 0.9974\n",
            "Epoch 18: val_accuracy did not improve from 0.87356\n",
            "25/25 [==============================] - 7s 269ms/step - loss: 0.0423 - accuracy: 0.9974 - val_loss: 1.9305 - val_accuracy: 0.7816 - lr: 1.2500e-04\n",
            "Epoch 19/30\n",
            "25/25 [==============================] - ETA: 0s - loss: 0.0389 - accuracy: 0.9936\n",
            "Epoch 19: val_accuracy did not improve from 0.87356\n",
            "\n",
            "Epoch 19: ReduceLROnPlateau reducing learning rate to 6.25000029685907e-05.\n",
            "25/25 [==============================] - 7s 274ms/step - loss: 0.0389 - accuracy: 0.9936 - val_loss: 3.1552 - val_accuracy: 0.7931 - lr: 1.2500e-04\n",
            "Epoch 20/30\n",
            "25/25 [==============================] - ETA: 0s - loss: 0.0529 - accuracy: 0.9936\n",
            "Epoch 20: val_accuracy did not improve from 0.87356\n",
            "25/25 [==============================] - 7s 272ms/step - loss: 0.0529 - accuracy: 0.9936 - val_loss: 2.0325 - val_accuracy: 0.8391 - lr: 6.2500e-05\n",
            "Epoch 21/30\n",
            "25/25 [==============================] - ETA: 0s - loss: 0.0084 - accuracy: 0.9987\n",
            "Epoch 21: val_accuracy did not improve from 0.87356\n",
            "\n",
            "Epoch 21: ReduceLROnPlateau reducing learning rate to 3.125000148429535e-05.\n",
            "25/25 [==============================] - 7s 276ms/step - loss: 0.0084 - accuracy: 0.9987 - val_loss: 2.6802 - val_accuracy: 0.7701 - lr: 6.2500e-05\n",
            "Epoch 22/30\n",
            "25/25 [==============================] - ETA: 0s - loss: 0.0254 - accuracy: 0.9936\n",
            "Epoch 22: val_accuracy did not improve from 0.87356\n",
            "25/25 [==============================] - 7s 273ms/step - loss: 0.0254 - accuracy: 0.9936 - val_loss: 2.1647 - val_accuracy: 0.8276 - lr: 3.1250e-05\n",
            "Epoch 23/30\n",
            "25/25 [==============================] - ETA: 0s - loss: 0.0734 - accuracy: 0.9898\n",
            "Epoch 23: val_accuracy did not improve from 0.87356\n",
            "\n",
            "Epoch 23: ReduceLROnPlateau reducing learning rate to 1.5625000742147677e-05.\n",
            "25/25 [==============================] - 7s 269ms/step - loss: 0.0734 - accuracy: 0.9898 - val_loss: 1.9893 - val_accuracy: 0.8161 - lr: 3.1250e-05\n",
            "Epoch 24/30\n",
            "25/25 [==============================] - ETA: 0s - loss: 0.0309 - accuracy: 0.9923\n",
            "Epoch 24: val_accuracy did not improve from 0.87356\n",
            "25/25 [==============================] - 7s 282ms/step - loss: 0.0309 - accuracy: 0.9923 - val_loss: 2.8315 - val_accuracy: 0.7471 - lr: 1.5625e-05\n",
            "Epoch 25/30\n",
            "25/25 [==============================] - ETA: 0s - loss: 0.0170 - accuracy: 0.9949\n",
            "Epoch 25: val_accuracy did not improve from 0.87356\n",
            "\n",
            "Epoch 25: ReduceLROnPlateau reducing learning rate to 1e-05.\n",
            "25/25 [==============================] - 7s 268ms/step - loss: 0.0170 - accuracy: 0.9949 - val_loss: 2.2479 - val_accuracy: 0.8046 - lr: 1.5625e-05\n",
            "Epoch 26/30\n",
            "25/25 [==============================] - ETA: 0s - loss: 0.0283 - accuracy: 0.9949\n",
            "Epoch 26: val_accuracy did not improve from 0.87356\n",
            "25/25 [==============================] - 7s 273ms/step - loss: 0.0283 - accuracy: 0.9949 - val_loss: 2.0407 - val_accuracy: 0.8276 - lr: 1.0000e-05\n",
            "Epoch 27/30\n",
            "25/25 [==============================] - ETA: 0s - loss: 0.0321 - accuracy: 0.9923\n",
            "Epoch 27: val_accuracy did not improve from 0.87356\n",
            "25/25 [==============================] - 7s 280ms/step - loss: 0.0321 - accuracy: 0.9923 - val_loss: 1.8999 - val_accuracy: 0.7816 - lr: 1.0000e-05\n",
            "Epoch 28/30\n",
            "25/25 [==============================] - ETA: 0s - loss: 0.0093 - accuracy: 0.9962\n",
            "Epoch 28: val_accuracy did not improve from 0.87356\n",
            "25/25 [==============================] - 7s 274ms/step - loss: 0.0093 - accuracy: 0.9962 - val_loss: 1.9215 - val_accuracy: 0.8391 - lr: 1.0000e-05\n",
            "Epoch 29/30\n",
            "25/25 [==============================] - ETA: 0s - loss: 0.0489 - accuracy: 0.9923\n",
            "Epoch 29: val_accuracy did not improve from 0.87356\n",
            "25/25 [==============================] - 7s 274ms/step - loss: 0.0489 - accuracy: 0.9923 - val_loss: 2.0239 - val_accuracy: 0.8391 - lr: 1.0000e-05\n",
            "Epoch 30/30\n",
            "25/25 [==============================] - ETA: 0s - loss: 0.0101 - accuracy: 0.9987\n",
            "Epoch 30: val_accuracy did not improve from 0.87356\n",
            "25/25 [==============================] - 7s 299ms/step - loss: 0.0101 - accuracy: 0.9987 - val_loss: 2.5232 - val_accuracy: 0.7816 - lr: 1.0000e-05\n"
          ]
        }
      ]
    },
    {
      "cell_type": "code",
      "source": [
        "history_frame = pd.DataFrame(history.history)\n",
        "history_frame.loc[:, ['loss', 'val_loss']].plot()\n",
        "history_frame.loc[:, ['accuracy', 'val_accuracy']].plot();\n",
        "print('best')\n",
        "history_frame.loc[:, ['accuracy', 'val_accuracy']].max()"
      ],
      "metadata": {
        "id": "65LYTRqK4hiK",
        "colab": {
          "base_uri": "https://localhost:8080/",
          "height": 646
        },
        "outputId": "6a6f1816-ec80-45a4-e72d-a2b150aca3f2"
      },
      "execution_count": null,
      "outputs": [
        {
          "output_type": "stream",
          "name": "stdout",
          "text": [
            "best\n"
          ]
        },
        {
          "output_type": "execute_result",
          "data": {
            "text/plain": [
              "accuracy        0.998723\n",
              "val_accuracy    0.873563\n",
              "dtype: float64"
            ]
          },
          "metadata": {},
          "execution_count": 15
        },
        {
          "output_type": "display_data",
          "data": {
            "text/plain": [
              "<Figure size 432x288 with 1 Axes>"
            ],
            "image/png": "[encoded data removed]"
          },
          "metadata": {
            "needs_background": "light"
          }
        },
        {
          "output_type": "display_data",
          "data": {
            "text/plain": [
              "<Figure size 432x288 with 1 Axes>"
            ],
            "image/png": "[encoded data removed]"
          },
          "metadata": {
            "needs_background": "light"
          }
        }
      ]
    },
    {
      "cell_type": "code",
      "source": [
        "results_val = model.evaluate_generator(val_gen, verbose=0)\n",
        "print(\"    Val Loss: {:.5f}\".format(results_val[0]))\n",
        "print(\"Val Accuracy: {:.2f}%\".format(results_val[1] * 100))"
      ],
      "metadata": {
        "id": "MXga8DFd4jBy",
        "colab": {
          "base_uri": "https://localhost:8080/"
        },
        "outputId": "27f5a084-425e-4232-ab72-d820dcd072c7"
      },
      "execution_count": null,
      "outputs": [
        {
          "output_type": "stream",
          "name": "stdout",
          "text": [
            "    Val Loss: 3.42072\n",
            "Val Accuracy: 81.61%\n"
          ]
        }
      ]
    },
    {
      "cell_type": "markdown",
      "source": [
        "# Predict alphabet from mediapipe landmarks"
      ],
      "metadata": {
        "id": "MasJQx8jrn1T"
      }
    },
    {
      "cell_type": "code",
      "source": [
        "!pip install mediapipe opencv-python"
      ],
      "metadata": {
        "colab": {
          "base_uri": "https://localhost:8080/"
        },
        "id": "uW2x-jCCvr-f",
        "outputId": "2f58c063-a50d-4cff-faa9-bccaaa086c51"
      },
      "execution_count": 10,
      "outputs": [
        {
          "output_type": "stream",
          "name": "stdout",
          "text": [
            "Looking in indexes: https://pypi.org/simple, https://us-python.pkg.dev/colab-wheels/public/simple/\n",
            "Collecting mediapipe\n",
            "  Downloading mediapipe-0.8.11-cp37-cp37m-manylinux_2_17_x86_64.manylinux2014_x86_64.whl (31.5 MB)\n",
            "\u001b[K     |████████████████████████████████| 31.5 MB 1.5 MB/s \n",
            "\u001b[?25hRequirement already satisfied: opencv-python in /usr/local/lib/python3.7/dist-packages (4.6.0.66)\n",
            "Requirement already satisfied: protobuf<4,>=3.11 in /usr/local/lib/python3.7/dist-packages (from mediapipe) (3.17.3)\n",
            "Requirement already satisfied: absl-py in /usr/local/lib/python3.7/dist-packages (from mediapipe) (1.3.0)\n",
            "Requirement already satisfied: matplotlib in /usr/local/lib/python3.7/dist-packages (from mediapipe) (3.2.2)\n",
            "Requirement already satisfied: opencv-contrib-python in /usr/local/lib/python3.7/dist-packages (from mediapipe) (4.6.0.66)\n",
            "Requirement already satisfied: numpy in /usr/local/lib/python3.7/dist-packages (from mediapipe) (1.21.6)\n",
            "Requirement already satisfied: attrs>=19.1.0 in /usr/local/lib/python3.7/dist-packages (from mediapipe) (22.1.0)\n",
            "Requirement already satisfied: six>=1.9 in /usr/local/lib/python3.7/dist-packages (from protobuf<4,>=3.11->mediapipe) (1.15.0)\n",
            "Requirement already satisfied: kiwisolver>=1.0.1 in /usr/local/lib/python3.7/dist-packages (from matplotlib->mediapipe) (1.4.4)\n",
            "Requirement already satisfied: cycler>=0.10 in /usr/local/lib/python3.7/dist-packages (from matplotlib->mediapipe) (0.11.0)\n",
            "Requirement already satisfied: python-dateutil>=2.1 in /usr/local/lib/python3.7/dist-packages (from matplotlib->mediapipe) (2.8.2)\n",
            "Requirement already satisfied: pyparsing!=2.0.4,!=2.1.2,!=2.1.6,>=2.0.1 in /usr/local/lib/python3.7/dist-packages (from matplotlib->mediapipe) (3.0.9)\n",
            "Requirement already satisfied: typing-extensions in /usr/local/lib/python3.7/dist-packages (from kiwisolver>=1.0.1->matplotlib->mediapipe) (4.1.1)\n",
            "Installing collected packages: mediapipe\n",
            "Successfully installed mediapipe-0.8.11\n"
          ]
        }
      ]
    },
    {
      "cell_type": "code",
      "source": [
        "import numpy as np \n",
        "import pandas as pd \n",
        "import os,warnings\n",
        "import cv2\n",
        "import mediapipe as mp\n",
        "mp_hands = mp.solutions.hands\n",
        "mp_holistic = mp.solutions.holistic\n",
        "\n",
        "from sklearn.model_selection import train_test_split\n",
        "\n",
        "import tensorflow as tf\n",
        "from tensorflow import keras\n",
        "from tensorflow.keras.layers.experimental import preprocessing\n",
        "from tensorflow.keras import layers\n",
        "from keras.utils.np_utils import to_categorical\n",
        "import matplotlib.pyplot as plt\n",
        "\n",
        "def set_seed(seed=12345):\n",
        "    np.random.seed(seed)\n",
        "    tf.random.set_seed(seed)\n",
        "    os.environ['PYTHONHASHSEED'] = str(seed)\n",
        "    os.environ['TF_DETERMINISTIC_OPS'] = '1'\n",
        "set_seed()\n",
        "# Set Matplotlib defaults\n",
        "plt.rc('figure', autolayout=True)\n",
        "plt.rc('axes', labelweight='bold', labelsize='large',\n",
        "       titleweight='bold', titlesize=18, titlepad=10)\n",
        "plt.rc('image', cmap='magma')\n",
        "warnings.filterwarnings(\"ignore\")"
      ],
      "metadata": {
        "id": "4zowazQJtAC4"
      },
      "execution_count": 11,
      "outputs": []
    },
    {
      "cell_type": "code",
      "source": [
        "data_path = '/content/asl-alphabet-test'\n",
        "data = []\n",
        "alp_list = ['A', 'B', 'C', 'D', 'E', 'F', 'G', 'H', 'I', 'J', 'K', 'L', 'M', 'N', 'O', 'P', 'Q', 'R', 'S', 'T', 'U', 'V', 'W', 'X', 'Y', 'Z','del','space']\n",
        "alphabets = os.listdir(data_path)\n",
        "with mp_hands.Hands(\n",
        "    static_image_mode=True,\n",
        "    max_num_hands=2,\n",
        "    min_detection_confidence=0.5) as hands:\n",
        "      for id,alp in enumerate(alphabets):\n",
        "        print(id+1,'/',len(alphabets))\n",
        "        folder = os.path.join(data_path,alp)\n",
        "        for filename in os.listdir(folder):\n",
        "          file = os.path.join(folder,filename)\n",
        "          image = cv2.flip(cv2.imread(file), 1)\n",
        "          results = hands.process(cv2.cvtColor(image, cv2.COLOR_BGR2RGB))\n",
        "          if results.multi_hand_landmarks:\n",
        "            for hand in results.multi_hand_landmarks:\n",
        "              lmlist =[]\n",
        "              for landmark in hand.landmark:\n",
        "                lmlist.append(landmark.x)\n",
        "                lmlist.append(landmark.y)\n",
        "                lmlist.append(landmark.z)\n",
        "              data.append([alp_list.index(alp)]+lmlist)\n",
        "df = pd.DataFrame(data)"
      ],
      "metadata": {
        "colab": {
          "base_uri": "https://localhost:8080/"
        },
        "id": "Elxp8zSLrtWj",
        "outputId": "fbb53ada-f75a-4733-8610-35f0ab6132e1"
      },
      "execution_count": 12,
      "outputs": [
        {
          "output_type": "stream",
          "name": "stdout",
          "text": [
            "1 / 29\n",
            "2 / 29\n",
            "3 / 29\n",
            "4 / 29\n",
            "5 / 29\n",
            "6 / 29\n",
            "7 / 29\n",
            "8 / 29\n",
            "9 / 29\n",
            "10 / 29\n",
            "11 / 29\n",
            "12 / 29\n",
            "13 / 29\n",
            "14 / 29\n",
            "15 / 29\n",
            "16 / 29\n",
            "17 / 29\n",
            "18 / 29\n",
            "19 / 29\n",
            "20 / 29\n",
            "21 / 29\n",
            "22 / 29\n",
            "23 / 29\n",
            "24 / 29\n",
            "25 / 29\n",
            "26 / 29\n",
            "27 / 29\n",
            "28 / 29\n",
            "29 / 29\n"
          ]
        }
      ]
    },
    {
      "cell_type": "code",
      "source": [
        "df.columns = ['class']+[str(landmark)+a for landmark in mp_holistic.HandLandmark for a in ['.x','.y','.z']]"
      ],
      "metadata": {
        "id": "a_H_TYPsz-Xh"
      },
      "execution_count": 13,
      "outputs": []
    },
    {
      "cell_type": "code",
      "source": [
        "df.head()"
      ],
      "metadata": {
        "colab": {
          "base_uri": "https://localhost:8080/",
          "height": 300
        },
        "id": "jAm1NzJNtelp",
        "outputId": "e1fcb93c-405a-4533-bcd8-fa3066063fe0"
      },
      "execution_count": 14,
      "outputs": [
        {
          "output_type": "execute_result",
          "data": {
            "text/plain": [
              "   class  HandLandmark.WRIST.x  HandLandmark.WRIST.y  HandLandmark.WRIST.z  \\\n",
              "0      2              0.694566              0.812915         -1.017900e-06   \n",
              "1      2              0.582024              0.807172         -3.411380e-07   \n",
              "2      2              0.834079              0.950281         -3.458352e-07   \n",
              "3      2              0.634658              0.769992         -1.871419e-07   \n",
              "4      2              0.614105              0.471619         -2.412480e-07   \n",
              "\n",
              "   HandLandmark.THUMB_CMC.x  HandLandmark.THUMB_CMC.y  \\\n",
              "0                  0.563027                  0.780594   \n",
              "1                  0.452624                  0.756742   \n",
              "2                  0.736380                  0.932895   \n",
              "3                  0.525848                  0.735106   \n",
              "4                  0.543657                  0.454753   \n",
              "\n",
              "   HandLandmark.THUMB_CMC.z  HandLandmark.THUMB_MCP.x  \\\n",
              "0                 -0.052885                  0.454819   \n",
              "1                  0.021653                  0.365071   \n",
              "2                 -0.054850                  0.660682   \n",
              "3                 -0.007541                  0.437470   \n",
              "4                 -0.016886                  0.483127   \n",
              "\n",
              "   HandLandmark.THUMB_MCP.y  HandLandmark.THUMB_MCP.z  ...  \\\n",
              "0                  0.660761                 -0.103808  ...   \n",
              "1                  0.668033                  0.023849  ...   \n",
              "2                  0.886796                 -0.112397  ...   \n",
              "3                  0.648696                 -0.030353  ...   \n",
              "4                  0.399663                 -0.026171  ...   \n",
              "\n",
              "   HandLandmark.PINKY_MCP.z  HandLandmark.PINKY_PIP.x  \\\n",
              "0                 -0.142231                  0.657024   \n",
              "1                 -0.058003                  0.530955   \n",
              "2                 -0.169126                  0.915762   \n",
              "3                 -0.085623                  0.588188   \n",
              "4                 -0.023002                  0.590567   \n",
              "\n",
              "   HandLandmark.PINKY_PIP.y  HandLandmark.PINKY_PIP.z  \\\n",
              "0                  0.345784                 -0.208630   \n",
              "1                  0.412424                 -0.082840   \n",
              "2                  0.757093                 -0.234718   \n",
              "3                  0.383035                 -0.114409   \n",
              "4                  0.227361                 -0.044588   \n",
              "\n",
              "   HandLandmark.PINKY_DIP.x  HandLandmark.PINKY_DIP.y  \\\n",
              "0                  0.531597                  0.292739   \n",
              "1                  0.461084                  0.367185   \n",
              "2                  0.864680                  0.745449   \n",
              "3                  0.511737                  0.342861   \n",
              "4                  0.557045                  0.194071   \n",
              "\n",
              "   HandLandmark.PINKY_DIP.z  HandLandmark.PINKY_TIP.x  \\\n",
              "0                 -0.245708                  0.436641   \n",
              "1                 -0.103459                  0.392611   \n",
              "2                 -0.260814                  0.815984   \n",
              "3                 -0.130707                  0.442032   \n",
              "4                 -0.060819                  0.522766   \n",
              "\n",
              "   HandLandmark.PINKY_TIP.y  HandLandmark.PINKY_TIP.z  \n",
              "0                  0.285474                 -0.260347  \n",
              "1                  0.348484                 -0.116513  \n",
              "2                  0.752159                 -0.272180  \n",
              "3                  0.337310                 -0.138701  \n",
              "4                  0.177555                 -0.069522  \n",
              "\n",
              "[5 rows x 64 columns]"
            ],
            "text/html": [
              "\n",
              "  <div id=\"df-832a4b96-086d-446d-9739-a196e4b5c603\">\n",
              "    <div class=\"colab-df-container\">\n",
              "      <div>\n",
              "<style scoped>\n",
              "    .dataframe tbody tr th:only-of-type {\n",
              "        vertical-align: middle;\n",
              "    }\n",
              "\n",
              "    .dataframe tbody tr th {\n",
              "        vertical-align: top;\n",
              "    }\n",
              "\n",
              "    .dataframe thead th {\n",
              "        text-align: right;\n",
              "    }\n",
              "</style>\n",
              "<table border=\"1\" class=\"dataframe\">\n",
              "  <thead>\n",
              "    <tr style=\"text-align: right;\">\n",
              "      <th></th>\n",
              "      <th>class</th>\n",
              "      <th>HandLandmark.WRIST.x</th>\n",
              "      <th>HandLandmark.WRIST.y</th>\n",
              "      <th>HandLandmark.WRIST.z</th>\n",
              "      <th>HandLandmark.THUMB_CMC.x</th>\n",
              "      <th>HandLandmark.THUMB_CMC.y</th>\n",
              "      <th>HandLandmark.THUMB_CMC.z</th>\n",
              "      <th>HandLandmark.THUMB_MCP.x</th>\n",
              "      <th>HandLandmark.THUMB_MCP.y</th>\n",
              "      <th>HandLandmark.THUMB_MCP.z</th>\n",
              "      <th>...</th>\n",
              "      <th>HandLandmark.PINKY_MCP.z</th>\n",
              "      <th>HandLandmark.PINKY_PIP.x</th>\n",
              "      <th>HandLandmark.PINKY_PIP.y</th>\n",
              "      <th>HandLandmark.PINKY_PIP.z</th>\n",
              "      <th>HandLandmark.PINKY_DIP.x</th>\n",
              "      <th>HandLandmark.PINKY_DIP.y</th>\n",
              "      <th>HandLandmark.PINKY_DIP.z</th>\n",
              "      <th>HandLandmark.PINKY_TIP.x</th>\n",
              "      <th>HandLandmark.PINKY_TIP.y</th>\n",
              "      <th>HandLandmark.PINKY_TIP.z</th>\n",
              "    </tr>\n",
              "  </thead>\n",
              "  <tbody>\n",
              "    <tr>\n",
              "      <th>0</th>\n",
              "      <td>2</td>\n",
              "      <td>0.694566</td>\n",
              "      <td>0.812915</td>\n",
              "      <td>-1.017900e-06</td>\n",
              "      <td>0.563027</td>\n",
              "      <td>0.780594</td>\n",
              "      <td>-0.052885</td>\n",
              "      <td>0.454819</td>\n",
              "      <td>0.660761</td>\n",
              "      <td>-0.103808</td>\n",
              "      <td>...</td>\n",
              "      <td>-0.142231</td>\n",
              "      <td>0.657024</td>\n",
              "      <td>0.345784</td>\n",
              "      <td>-0.208630</td>\n",
              "      <td>0.531597</td>\n",
              "      <td>0.292739</td>\n",
              "      <td>-0.245708</td>\n",
              "      <td>0.436641</td>\n",
              "      <td>0.285474</td>\n",
              "      <td>-0.260347</td>\n",
              "    </tr>\n",
              "    <tr>\n",
              "      <th>1</th>\n",
              "      <td>2</td>\n",
              "      <td>0.582024</td>\n",
              "      <td>0.807172</td>\n",
              "      <td>-3.411380e-07</td>\n",
              "      <td>0.452624</td>\n",
              "      <td>0.756742</td>\n",
              "      <td>0.021653</td>\n",
              "      <td>0.365071</td>\n",
              "      <td>0.668033</td>\n",
              "      <td>0.023849</td>\n",
              "      <td>...</td>\n",
              "      <td>-0.058003</td>\n",
              "      <td>0.530955</td>\n",
              "      <td>0.412424</td>\n",
              "      <td>-0.082840</td>\n",
              "      <td>0.461084</td>\n",
              "      <td>0.367185</td>\n",
              "      <td>-0.103459</td>\n",
              "      <td>0.392611</td>\n",
              "      <td>0.348484</td>\n",
              "      <td>-0.116513</td>\n",
              "    </tr>\n",
              "    <tr>\n",
              "      <th>2</th>\n",
              "      <td>2</td>\n",
              "      <td>0.834079</td>\n",
              "      <td>0.950281</td>\n",
              "      <td>-3.458352e-07</td>\n",
              "      <td>0.736380</td>\n",
              "      <td>0.932895</td>\n",
              "      <td>-0.054850</td>\n",
              "      <td>0.660682</td>\n",
              "      <td>0.886796</td>\n",
              "      <td>-0.112397</td>\n",
              "      <td>...</td>\n",
              "      <td>-0.169126</td>\n",
              "      <td>0.915762</td>\n",
              "      <td>0.757093</td>\n",
              "      <td>-0.234718</td>\n",
              "      <td>0.864680</td>\n",
              "      <td>0.745449</td>\n",
              "      <td>-0.260814</td>\n",
              "      <td>0.815984</td>\n",
              "      <td>0.752159</td>\n",
              "      <td>-0.272180</td>\n",
              "    </tr>\n",
              "    <tr>\n",
              "      <th>3</th>\n",
              "      <td>2</td>\n",
              "      <td>0.634658</td>\n",
              "      <td>0.769992</td>\n",
              "      <td>-1.871419e-07</td>\n",
              "      <td>0.525848</td>\n",
              "      <td>0.735106</td>\n",
              "      <td>-0.007541</td>\n",
              "      <td>0.437470</td>\n",
              "      <td>0.648696</td>\n",
              "      <td>-0.030353</td>\n",
              "      <td>...</td>\n",
              "      <td>-0.085623</td>\n",
              "      <td>0.588188</td>\n",
              "      <td>0.383035</td>\n",
              "      <td>-0.114409</td>\n",
              "      <td>0.511737</td>\n",
              "      <td>0.342861</td>\n",
              "      <td>-0.130707</td>\n",
              "      <td>0.442032</td>\n",
              "      <td>0.337310</td>\n",
              "      <td>-0.138701</td>\n",
              "    </tr>\n",
              "    <tr>\n",
              "      <th>4</th>\n",
              "      <td>2</td>\n",
              "      <td>0.614105</td>\n",
              "      <td>0.471619</td>\n",
              "      <td>-2.412480e-07</td>\n",
              "      <td>0.543657</td>\n",
              "      <td>0.454753</td>\n",
              "      <td>-0.016886</td>\n",
              "      <td>0.483127</td>\n",
              "      <td>0.399663</td>\n",
              "      <td>-0.026171</td>\n",
              "      <td>...</td>\n",
              "      <td>-0.023002</td>\n",
              "      <td>0.590567</td>\n",
              "      <td>0.227361</td>\n",
              "      <td>-0.044588</td>\n",
              "      <td>0.557045</td>\n",
              "      <td>0.194071</td>\n",
              "      <td>-0.060819</td>\n",
              "      <td>0.522766</td>\n",
              "      <td>0.177555</td>\n",
              "      <td>-0.069522</td>\n",
              "    </tr>\n",
              "  </tbody>\n",
              "</table>\n",
              "<p>5 rows × 64 columns</p>\n",
              "</div>\n",
              "      <button class=\"colab-df-convert\" onclick=\"convertToInteractive('df-832a4b96-086d-446d-9739-a196e4b5c603')\"\n",
              "              title=\"Convert this dataframe to an interactive table.\"\n",
              "              style=\"display:none;\">\n",
              "        \n",
              "  <svg xmlns=\"http://www.w3.org/2000/svg\" height=\"24px\"viewBox=\"0 0 24 24\"\n",
              "       width=\"24px\">\n",
              "    <path d=\"M0 0h24v24H0V0z\" fill=\"none\"/>\n",
              "    <path d=\"M18.56 5.44l.94 2.06.94-2.06 2.06-.94-2.06-.94-.94-2.06-.94 2.06-2.06.94zm-11 1L8.5 8.5l.94-2.06 2.06-.94-2.06-.94L8.5 2.5l-.94 2.06-2.06.94zm10 10l.94 2.06.94-2.06 2.06-.94-2.06-.94-.94-2.06-.94 2.06-2.06.94z\"/><path d=\"M17.41 7.96l-1.37-1.37c-.4-.4-.92-.59-1.43-.59-.52 0-1.04.2-1.43.59L10.3 9.45l-7.72 7.72c-.78.78-.78 2.05 0 2.83L4 21.41c.39.39.9.59 1.41.59.51 0 1.02-.2 1.41-.59l7.78-7.78 2.81-2.81c.8-.78.8-2.07 0-2.86zM5.41 20L4 18.59l7.72-7.72 1.47 1.35L5.41 20z\"/>\n",
              "  </svg>\n",
              "      </button>\n",
              "      \n",
              "  <style>\n",
              "    .colab-df-container {\n",
              "      display:flex;\n",
              "      flex-wrap:wrap;\n",
              "      gap: 12px;\n",
              "    }\n",
              "\n",
              "    .colab-df-convert {\n",
              "      background-color: #E8F0FE;\n",
              "      border: none;\n",
              "      border-radius: 50%;\n",
              "      cursor: pointer;\n",
              "      display: none;\n",
              "      fill: #1967D2;\n",
              "      height: 32px;\n",
              "      padding: 0 0 0 0;\n",
              "      width: 32px;\n",
              "    }\n",
              "\n",
              "    .colab-df-convert:hover {\n",
              "      background-color: #E2EBFA;\n",
              "      box-shadow: 0px 1px 2px rgba(60, 64, 67, 0.3), 0px 1px 3px 1px rgba(60, 64, 67, 0.15);\n",
              "      fill: #174EA6;\n",
              "    }\n",
              "\n",
              "    [theme=dark] .colab-df-convert {\n",
              "      background-color: #3B4455;\n",
              "      fill: #D2E3FC;\n",
              "    }\n",
              "\n",
              "    [theme=dark] .colab-df-convert:hover {\n",
              "      background-color: #434B5C;\n",
              "      box-shadow: 0px 1px 3px 1px rgba(0, 0, 0, 0.15);\n",
              "      filter: drop-shadow(0px 1px 2px rgba(0, 0, 0, 0.3));\n",
              "      fill: #FFFFFF;\n",
              "    }\n",
              "  </style>\n",
              "\n",
              "      <script>\n",
              "        const buttonEl =\n",
              "          document.querySelector('#df-832a4b96-086d-446d-9739-a196e4b5c603 button.colab-df-convert');\n",
              "        buttonEl.style.display =\n",
              "          google.colab.kernel.accessAllowed ? 'block' : 'none';\n",
              "\n",
              "        async function convertToInteractive(key) {\n",
              "          const element = document.querySelector('#df-832a4b96-086d-446d-9739-a196e4b5c603');\n",
              "          const dataTable =\n",
              "            await google.colab.kernel.invokeFunction('convertToInteractive',\n",
              "                                                     [key], {});\n",
              "          if (!dataTable) return;\n",
              "\n",
              "          const docLinkHtml = 'Like what you see? Visit the ' +\n",
              "            '<a target=\"_blank\" href=https://colab.research.google.com/notebooks/data_table.ipynb>data table notebook</a>'\n",
              "            + ' to learn more about interactive tables.';\n",
              "          element.innerHTML = '';\n",
              "          dataTable['output_type'] = 'display_data';\n",
              "          await google.colab.output.renderOutput(dataTable, element);\n",
              "          const docLink = document.createElement('div');\n",
              "          docLink.innerHTML = docLinkHtml;\n",
              "          element.appendChild(docLink);\n",
              "        }\n",
              "      </script>\n",
              "    </div>\n",
              "  </div>\n",
              "  "
            ]
          },
          "metadata": {},
          "execution_count": 14
        }
      ]
    },
    {
      "cell_type": "code",
      "source": [
        "x = df.drop(['class'],axis = 1)\n",
        "y = df['class']\n",
        "y_one_hot = to_categorical(y)\n",
        "x_train, x_val, y_train, y_val = train_test_split(x, y_one_hot, test_size=0.2,random_state =1,stratify = y_one_hot)"
      ],
      "metadata": {
        "id": "YrmQ3fBZASqn"
      },
      "execution_count": 15,
      "outputs": []
    },
    {
      "cell_type": "code",
      "source": [
        "print(np.sum(y_val,axis=0))"
      ],
      "metadata": {
        "colab": {
          "base_uri": "https://localhost:8080/"
        },
        "id": "LIzKLVRjL235",
        "outputId": "afff3d69-50dc-4d8d-e463-c0b00a7cac8b"
      },
      "execution_count": 16,
      "outputs": [
        {
          "output_type": "stream",
          "name": "stdout",
          "text": [
            "[6. 6. 6. 6. 6. 6. 6. 6. 4. 6. 5. 6. 5. 6. 5. 5. 6. 6. 6. 6. 6. 6. 6. 6.\n",
            " 6. 6. 4. 4.]\n"
          ]
        }
      ]
    },
    {
      "cell_type": "code",
      "source": [
        "model = keras.Sequential([\n",
        "    layers.Dense(units = 256,activation='relu',input_shape = (63,)),\n",
        "    layers.BatchNormalization(renorm=True),\n",
        "    layers.Dense(units = 128,activation='relu'),\n",
        "    layers.Dense(units = 128,activation='relu'),    \n",
        "    layers.Dropout(rate = 0.3),\n",
        "    layers.Dense(units = 28,activation = 'softmax')\n",
        "])\n",
        "model.summary()"
      ],
      "metadata": {
        "colab": {
          "base_uri": "https://localhost:8080/"
        },
        "id": "hGX1b1V1-qO5",
        "outputId": "d6ff59f2-a33f-40a9-8a3f-decda505d78d"
      },
      "execution_count": 18,
      "outputs": [
        {
          "output_type": "stream",
          "name": "stdout",
          "text": [
            "Model: \"sequential_2\"\n",
            "_________________________________________________________________\n",
            " Layer (type)                Output Shape              Param #   \n",
            "=================================================================\n",
            " dense_5 (Dense)             (None, 256)               16384     \n",
            "                                                                 \n",
            " batch_normalization_2 (Batc  (None, 256)              1792      \n",
            " hNormalization)                                                 \n",
            "                                                                 \n",
            " dense_6 (Dense)             (None, 128)               32896     \n",
            "                                                                 \n",
            " dense_7 (Dense)             (None, 128)               16512     \n",
            "                                                                 \n",
            " dropout_1 (Dropout)         (None, 128)               0         \n",
            "                                                                 \n",
            " dense_8 (Dense)             (None, 28)                3612      \n",
            "                                                                 \n",
            "=================================================================\n",
            "Total params: 71,196\n",
            "Trainable params: 69,916\n",
            "Non-trainable params: 1,280\n",
            "_________________________________________________________________\n"
          ]
        }
      ]
    },
    {
      "cell_type": "code",
      "source": [
        "optimizer = tf.keras.optimizers.Adam(epsilon=0.001)\n",
        "model.compile(\n",
        "    optimizer=optimizer,\n",
        "    loss = 'categorical_crossentropy',\n",
        "    metrics=['accuracy'],\n",
        ")\n",
        "early_stopping = keras.callbacks.EarlyStopping(\n",
        "    patience=10,\n",
        "    min_delta=0.001,\n",
        "    restore_best_weights=True,\n",
        ")\n",
        "reduce_lr = keras.callbacks.ReduceLROnPlateau(monitor='val_accuracy', factor=0.5, patience=5, \n",
        "                                   verbose=1, mode='max', min_lr=0.00001)"
      ],
      "metadata": {
        "id": "amQnXjgq_DJM"
      },
      "execution_count": 19,
      "outputs": []
    },
    {
      "cell_type": "code",
      "source": [
        "history = model.fit(x_train,y_train,\n",
        "                    validation_data=(x_val, y_val),\n",
        "                    verbose =1,\n",
        "                    epochs = 100,\n",
        "                    callbacks = [early_stopping,reduce_lr])"
      ],
      "metadata": {
        "colab": {
          "base_uri": "https://localhost:8080/"
        },
        "id": "emkmYK6REHur",
        "outputId": "6819f1ec-ca56-4c2d-df28-64ee475b06d2"
      },
      "execution_count": 20,
      "outputs": [
        {
          "output_type": "stream",
          "name": "stdout",
          "text": [
            "Epoch 1/100\n",
            "20/20 [==============================] - 3s 16ms/step - loss: 3.3311 - accuracy: 0.0396 - val_loss: 3.2997 - val_accuracy: 0.0570 - lr: 0.0010\n",
            "Epoch 2/100\n",
            "20/20 [==============================] - 0s 6ms/step - loss: 3.2805 - accuracy: 0.0681 - val_loss: 3.2493 - val_accuracy: 0.1329 - lr: 0.0010\n",
            "Epoch 3/100\n",
            "20/20 [==============================] - 0s 6ms/step - loss: 3.2117 - accuracy: 0.1315 - val_loss: 3.1576 - val_accuracy: 0.2089 - lr: 0.0010\n",
            "Epoch 4/100\n",
            "20/20 [==============================] - 0s 5ms/step - loss: 3.0909 - accuracy: 0.1933 - val_loss: 2.9870 - val_accuracy: 0.2658 - lr: 0.0010\n",
            "Epoch 5/100\n",
            "20/20 [==============================] - 0s 5ms/step - loss: 2.8733 - accuracy: 0.2821 - val_loss: 2.7123 - val_accuracy: 0.4557 - lr: 0.0010\n",
            "Epoch 6/100\n",
            "20/20 [==============================] - 0s 6ms/step - loss: 2.5896 - accuracy: 0.3899 - val_loss: 2.3614 - val_accuracy: 0.4747 - lr: 0.0010\n",
            "Epoch 7/100\n",
            "20/20 [==============================] - 0s 5ms/step - loss: 2.1892 - accuracy: 0.4754 - val_loss: 1.8419 - val_accuracy: 0.5633 - lr: 0.0010\n",
            "Epoch 8/100\n",
            "20/20 [==============================] - 0s 6ms/step - loss: 1.6303 - accuracy: 0.5689 - val_loss: 1.1525 - val_accuracy: 0.7785 - lr: 0.0010\n",
            "Epoch 9/100\n",
            "20/20 [==============================] - 0s 5ms/step - loss: 1.0931 - accuracy: 0.6815 - val_loss: 0.6926 - val_accuracy: 0.8101 - lr: 0.0010\n",
            "Epoch 10/100\n",
            "20/20 [==============================] - 0s 6ms/step - loss: 0.8449 - accuracy: 0.7084 - val_loss: 0.5404 - val_accuracy: 0.8608 - lr: 0.0010\n",
            "Epoch 11/100\n",
            "20/20 [==============================] - 0s 6ms/step - loss: 0.6504 - accuracy: 0.7876 - val_loss: 0.4941 - val_accuracy: 0.8228 - lr: 0.0010\n",
            "Epoch 12/100\n",
            "20/20 [==============================] - 0s 6ms/step - loss: 0.5569 - accuracy: 0.7987 - val_loss: 0.2914 - val_accuracy: 0.8924 - lr: 0.0010\n",
            "Epoch 13/100\n",
            "20/20 [==============================] - 0s 6ms/step - loss: 0.3906 - accuracy: 0.8542 - val_loss: 0.2396 - val_accuracy: 0.9114 - lr: 0.0010\n",
            "Epoch 14/100\n",
            "20/20 [==============================] - 0s 6ms/step - loss: 0.3294 - accuracy: 0.8938 - val_loss: 0.2358 - val_accuracy: 0.9177 - lr: 0.0010\n",
            "Epoch 15/100\n",
            "20/20 [==============================] - 0s 5ms/step - loss: 0.4111 - accuracy: 0.8653 - val_loss: 0.2622 - val_accuracy: 0.9304 - lr: 0.0010\n",
            "Epoch 16/100\n",
            "20/20 [==============================] - 0s 5ms/step - loss: 0.3179 - accuracy: 0.8875 - val_loss: 0.2255 - val_accuracy: 0.8924 - lr: 0.0010\n",
            "Epoch 17/100\n",
            "20/20 [==============================] - 0s 6ms/step - loss: 0.3327 - accuracy: 0.8811 - val_loss: 0.2039 - val_accuracy: 0.9177 - lr: 0.0010\n",
            "Epoch 18/100\n",
            "20/20 [==============================] - 0s 6ms/step - loss: 0.2744 - accuracy: 0.8796 - val_loss: 0.2544 - val_accuracy: 0.8797 - lr: 0.0010\n",
            "Epoch 19/100\n",
            "20/20 [==============================] - 0s 6ms/step - loss: 0.3165 - accuracy: 0.8827 - val_loss: 0.5287 - val_accuracy: 0.8038 - lr: 0.0010\n",
            "Epoch 20/100\n",
            "13/20 [==================>...........] - ETA: 0s - loss: 0.4689 - accuracy: 0.8293\n",
            "Epoch 20: ReduceLROnPlateau reducing learning rate to 0.0005000000237487257.\n",
            "20/20 [==============================] - 0s 6ms/step - loss: 0.4132 - accuracy: 0.8463 - val_loss: 0.2931 - val_accuracy: 0.8861 - lr: 0.0010\n",
            "Epoch 21/100\n",
            "20/20 [==============================] - 0s 6ms/step - loss: 0.2849 - accuracy: 0.8811 - val_loss: 0.2234 - val_accuracy: 0.9177 - lr: 5.0000e-04\n",
            "Epoch 22/100\n",
            "20/20 [==============================] - 0s 6ms/step - loss: 0.2098 - accuracy: 0.9113 - val_loss: 0.1179 - val_accuracy: 0.9430 - lr: 5.0000e-04\n",
            "Epoch 23/100\n",
            "20/20 [==============================] - 0s 5ms/step - loss: 0.1512 - accuracy: 0.9382 - val_loss: 0.1128 - val_accuracy: 0.9494 - lr: 5.0000e-04\n",
            "Epoch 24/100\n",
            "20/20 [==============================] - 0s 5ms/step - loss: 0.1224 - accuracy: 0.9620 - val_loss: 0.1249 - val_accuracy: 0.9367 - lr: 5.0000e-04\n",
            "Epoch 25/100\n",
            "20/20 [==============================] - 0s 5ms/step - loss: 0.1372 - accuracy: 0.9556 - val_loss: 0.1085 - val_accuracy: 0.9430 - lr: 5.0000e-04\n",
            "Epoch 26/100\n",
            "20/20 [==============================] - 0s 5ms/step - loss: 0.1180 - accuracy: 0.9604 - val_loss: 0.0967 - val_accuracy: 0.9494 - lr: 5.0000e-04\n",
            "Epoch 27/100\n",
            "20/20 [==============================] - 0s 5ms/step - loss: 0.0780 - accuracy: 0.9731 - val_loss: 0.0856 - val_accuracy: 0.9430 - lr: 5.0000e-04\n",
            "Epoch 28/100\n",
            "15/20 [=====================>........] - ETA: 0s - loss: 0.0568 - accuracy: 0.9771\n",
            "Epoch 28: ReduceLROnPlateau reducing learning rate to 0.0002500000118743628.\n",
            "20/20 [==============================] - 0s 5ms/step - loss: 0.0616 - accuracy: 0.9746 - val_loss: 0.1077 - val_accuracy: 0.9494 - lr: 5.0000e-04\n",
            "Epoch 29/100\n",
            "20/20 [==============================] - 0s 5ms/step - loss: 0.0879 - accuracy: 0.9635 - val_loss: 0.0789 - val_accuracy: 0.9557 - lr: 2.5000e-04\n",
            "Epoch 30/100\n",
            "20/20 [==============================] - 0s 5ms/step - loss: 0.0621 - accuracy: 0.9826 - val_loss: 0.0866 - val_accuracy: 0.9494 - lr: 2.5000e-04\n",
            "Epoch 31/100\n",
            "20/20 [==============================] - 0s 6ms/step - loss: 0.0536 - accuracy: 0.9842 - val_loss: 0.0760 - val_accuracy: 0.9557 - lr: 2.5000e-04\n",
            "Epoch 32/100\n",
            "20/20 [==============================] - 0s 5ms/step - loss: 0.0586 - accuracy: 0.9762 - val_loss: 0.0772 - val_accuracy: 0.9557 - lr: 2.5000e-04\n",
            "Epoch 33/100\n",
            "20/20 [==============================] - 0s 5ms/step - loss: 0.0569 - accuracy: 0.9826 - val_loss: 0.0773 - val_accuracy: 0.9557 - lr: 2.5000e-04\n",
            "Epoch 34/100\n",
            "20/20 [==============================] - 0s 5ms/step - loss: 0.0534 - accuracy: 0.9826 - val_loss: 0.0744 - val_accuracy: 0.9620 - lr: 2.5000e-04\n",
            "Epoch 35/100\n",
            "20/20 [==============================] - 0s 5ms/step - loss: 0.0504 - accuracy: 0.9842 - val_loss: 0.0737 - val_accuracy: 0.9620 - lr: 2.5000e-04\n",
            "Epoch 36/100\n",
            "20/20 [==============================] - 0s 6ms/step - loss: 0.0472 - accuracy: 0.9873 - val_loss: 0.0678 - val_accuracy: 0.9557 - lr: 2.5000e-04\n",
            "Epoch 37/100\n",
            "20/20 [==============================] - 0s 6ms/step - loss: 0.0615 - accuracy: 0.9762 - val_loss: 0.0647 - val_accuracy: 0.9620 - lr: 2.5000e-04\n",
            "Epoch 38/100\n",
            "20/20 [==============================] - 0s 5ms/step - loss: 0.0408 - accuracy: 0.9873 - val_loss: 0.0663 - val_accuracy: 0.9557 - lr: 2.5000e-04\n",
            "Epoch 39/100\n",
            "15/20 [=====================>........] - ETA: 0s - loss: 0.0669 - accuracy: 0.9688\n",
            "Epoch 39: ReduceLROnPlateau reducing learning rate to 0.0001250000059371814.\n",
            "20/20 [==============================] - 0s 5ms/step - loss: 0.0594 - accuracy: 0.9731 - val_loss: 0.0838 - val_accuracy: 0.9620 - lr: 2.5000e-04\n",
            "Epoch 40/100\n",
            "20/20 [==============================] - 0s 6ms/step - loss: 0.0393 - accuracy: 0.9873 - val_loss: 0.0674 - val_accuracy: 0.9684 - lr: 1.2500e-04\n",
            "Epoch 41/100\n",
            "20/20 [==============================] - 0s 5ms/step - loss: 0.0447 - accuracy: 0.9873 - val_loss: 0.0643 - val_accuracy: 0.9684 - lr: 1.2500e-04\n",
            "Epoch 42/100\n",
            "20/20 [==============================] - 0s 5ms/step - loss: 0.0427 - accuracy: 0.9842 - val_loss: 0.0640 - val_accuracy: 0.9557 - lr: 1.2500e-04\n",
            "Epoch 43/100\n",
            "20/20 [==============================] - 0s 6ms/step - loss: 0.0405 - accuracy: 0.9842 - val_loss: 0.0659 - val_accuracy: 0.9430 - lr: 1.2500e-04\n",
            "Epoch 44/100\n",
            "20/20 [==============================] - 0s 5ms/step - loss: 0.0413 - accuracy: 0.9873 - val_loss: 0.0609 - val_accuracy: 0.9557 - lr: 1.2500e-04\n",
            "Epoch 45/100\n",
            "14/20 [====================>.........] - ETA: 0s - loss: 0.0274 - accuracy: 0.9978\n",
            "Epoch 45: ReduceLROnPlateau reducing learning rate to 6.25000029685907e-05.\n",
            "20/20 [==============================] - 0s 5ms/step - loss: 0.0334 - accuracy: 0.9921 - val_loss: 0.0611 - val_accuracy: 0.9620 - lr: 1.2500e-04\n",
            "Epoch 46/100\n",
            "20/20 [==============================] - 0s 5ms/step - loss: 0.0296 - accuracy: 0.9952 - val_loss: 0.0598 - val_accuracy: 0.9620 - lr: 6.2500e-05\n",
            "Epoch 47/100\n",
            "20/20 [==============================] - 0s 5ms/step - loss: 0.0381 - accuracy: 0.9905 - val_loss: 0.0579 - val_accuracy: 0.9684 - lr: 6.2500e-05\n",
            "Epoch 48/100\n",
            "20/20 [==============================] - 0s 6ms/step - loss: 0.0397 - accuracy: 0.9873 - val_loss: 0.0583 - val_accuracy: 0.9620 - lr: 6.2500e-05\n",
            "Epoch 49/100\n",
            "20/20 [==============================] - 0s 5ms/step - loss: 0.0327 - accuracy: 0.9873 - val_loss: 0.0578 - val_accuracy: 0.9684 - lr: 6.2500e-05\n",
            "Epoch 50/100\n",
            "20/20 [==============================] - 0s 6ms/step - loss: 0.0348 - accuracy: 0.9921 - val_loss: 0.0574 - val_accuracy: 0.9810 - lr: 6.2500e-05\n",
            "Epoch 51/100\n",
            "20/20 [==============================] - 0s 6ms/step - loss: 0.0333 - accuracy: 0.9905 - val_loss: 0.0579 - val_accuracy: 0.9747 - lr: 6.2500e-05\n",
            "Epoch 52/100\n",
            "20/20 [==============================] - 0s 5ms/step - loss: 0.0267 - accuracy: 0.9984 - val_loss: 0.0591 - val_accuracy: 0.9747 - lr: 6.2500e-05\n",
            "Epoch 53/100\n",
            "20/20 [==============================] - 0s 5ms/step - loss: 0.0252 - accuracy: 0.9968 - val_loss: 0.0598 - val_accuracy: 0.9747 - lr: 6.2500e-05\n",
            "Epoch 54/100\n",
            "20/20 [==============================] - 0s 6ms/step - loss: 0.0462 - accuracy: 0.9810 - val_loss: 0.0588 - val_accuracy: 0.9747 - lr: 6.2500e-05\n",
            "Epoch 55/100\n",
            "15/20 [=====================>........] - ETA: 0s - loss: 0.0313 - accuracy: 0.9896\n",
            "Epoch 55: ReduceLROnPlateau reducing learning rate to 3.125000148429535e-05.\n",
            "20/20 [==============================] - 0s 6ms/step - loss: 0.0306 - accuracy: 0.9921 - val_loss: 0.0608 - val_accuracy: 0.9684 - lr: 6.2500e-05\n",
            "Epoch 56/100\n",
            "20/20 [==============================] - 0s 5ms/step - loss: 0.0377 - accuracy: 0.9921 - val_loss: 0.0600 - val_accuracy: 0.9684 - lr: 3.1250e-05\n",
            "Epoch 57/100\n",
            "20/20 [==============================] - 0s 6ms/step - loss: 0.0250 - accuracy: 0.9952 - val_loss: 0.0600 - val_accuracy: 0.9557 - lr: 3.1250e-05\n"
          ]
        }
      ]
    },
    {
      "cell_type": "code",
      "source": [
        "history_frame = pd.DataFrame(history.history)\n",
        "history_frame.loc[:, ['loss', 'val_loss']].plot()\n",
        "history_frame.loc[:, ['accuracy', 'val_accuracy']].plot();\n",
        "print('best')\n",
        "history_frame.loc[:, ['accuracy', 'val_accuracy']].max()"
      ],
      "metadata": {
        "colab": {
          "base_uri": "https://localhost:8080/",
          "height": 646
        },
        "id": "syh_W_yJGua-",
        "outputId": "c58d3588-719c-432f-bfd6-10daefecbd16"
      },
      "execution_count": 21,
      "outputs": [
        {
          "output_type": "stream",
          "name": "stdout",
          "text": [
            "best\n"
          ]
        },
        {
          "output_type": "execute_result",
          "data": {
            "text/plain": [
              "accuracy        0.998415\n",
              "val_accuracy    0.981013\n",
              "dtype: float64"
            ]
          },
          "metadata": {},
          "execution_count": 21
        },
        {
          "output_type": "display_data",
          "data": {
            "text/plain": [
              "<Figure size 432x288 with 1 Axes>"
            ],
            "image/png": "[encoded data removed]"
          },
          "metadata": {
            "needs_background": "light"
          }
        },
        {
          "output_type": "display_data",
          "data": {
            "text/plain": [
              "<Figure size 432x288 with 1 Axes>"
            ],
            "image/png": "[encoded data removed]"
          },
          "metadata": {
            "needs_background": "light"
          }
        }
      ]
    },
    {
      "cell_type": "code",
      "source": [
        "from sklearn.metrics import confusion_matrix\n",
        "y_pred = model.predict(x_val)\n",
        "y_pred =y_pred.argmax(axis=1)\n",
        "y_test_class = y_val.argmax(axis=1)\n",
        "#confusion_matrix(y_test_class, y_pred)\n",
        "\n",
        "from sklearn.metrics import classification_report\n",
        "print(classification_report(y_test_class, y_pred))"
      ],
      "metadata": {
        "colab": {
          "base_uri": "https://localhost:8080/"
        },
        "id": "_Y1drGaLGxGG",
        "outputId": "f9d12ca5-9a45-4b3e-8861-e4ecf8648565"
      },
      "execution_count": 23,
      "outputs": [
        {
          "output_type": "stream",
          "name": "stdout",
          "text": [
            "5/5 [==============================] - 0s 2ms/step\n",
            "              precision    recall  f1-score   support\n",
            "\n",
            "           0       1.00      1.00      1.00         6\n",
            "           1       1.00      1.00      1.00         6\n",
            "           2       1.00      1.00      1.00         6\n",
            "           3       1.00      1.00      1.00         6\n",
            "           4       1.00      1.00      1.00         6\n",
            "           5       1.00      1.00      1.00         6\n",
            "           6       1.00      1.00      1.00         6\n",
            "           7       1.00      1.00      1.00         6\n",
            "           8       1.00      1.00      1.00         4\n",
            "           9       1.00      1.00      1.00         6\n",
            "          10       1.00      1.00      1.00         5\n",
            "          11       1.00      1.00      1.00         6\n",
            "          12       0.57      0.80      0.67         5\n",
            "          13       0.75      0.50      0.60         6\n",
            "          14       1.00      1.00      1.00         5\n",
            "          15       1.00      1.00      1.00         5\n",
            "          16       1.00      0.83      0.91         6\n",
            "          17       1.00      1.00      1.00         6\n",
            "          18       1.00      1.00      1.00         6\n",
            "          19       1.00      1.00      1.00         6\n",
            "          20       1.00      1.00      1.00         6\n",
            "          21       1.00      1.00      1.00         6\n",
            "          22       1.00      1.00      1.00         6\n",
            "          23       1.00      1.00      1.00         6\n",
            "          24       1.00      1.00      1.00         6\n",
            "          25       1.00      1.00      1.00         6\n",
            "          26       0.80      1.00      0.89         4\n",
            "          27       1.00      1.00      1.00         4\n",
            "\n",
            "    accuracy                           0.97       158\n",
            "   macro avg       0.97      0.97      0.97       158\n",
            "weighted avg       0.97      0.97      0.97       158\n",
            "\n"
          ]
        }
      ]
    },
    {
      "cell_type": "code",
      "source": [
        "!pip install pyyaml h5py\n",
        "model.save('/content/my_model.h5') "
      ],
      "metadata": {
        "colab": {
          "base_uri": "https://localhost:8080/"
        },
        "id": "VhGCjwT-LMpm",
        "outputId": "4e0d6fac-9812-45a3-c290-2920ab219b27"
      },
      "execution_count": 24,
      "outputs": [
        {
          "output_type": "stream",
          "name": "stdout",
          "text": [
            "Looking in indexes: https://pypi.org/simple, https://us-python.pkg.dev/colab-wheels/public/simple/\n",
            "Requirement already satisfied: pyyaml in /usr/local/lib/python3.7/dist-packages (6.0)\n",
            "Requirement already satisfied: h5py in /usr/local/lib/python3.7/dist-packages (3.1.0)\n",
            "Requirement already satisfied: cached-property in /usr/local/lib/python3.7/dist-packages (from h5py) (1.5.2)\n",
            "Requirement already satisfied: numpy>=1.14.5 in /usr/local/lib/python3.7/dist-packages (from h5py) (1.21.6)\n"
          ]
        }
      ]
    }
  ]
}